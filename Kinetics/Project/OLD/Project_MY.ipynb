{
 "cells": [
  {
   "cell_type": "code",
   "execution_count": 1,
   "metadata": {},
   "outputs": [],
   "source": [
    "import numpy as np\n",
    "import pandas as pd\n",
    "import matplotlib.pyplot as plt\n",
    "from scipy.integrate import odeint"
   ]
  },
  {
   "cell_type": "code",
   "execution_count": 2,
   "metadata": {},
   "outputs": [],
   "source": [
    "# constants\n",
    "dH_1 = -74.32*1000 # kBTU/lbmol\n",
    "dH_2 = -474.57*1000 # kBTU/lbmol\n",
    "dp = 0.25/12 # ft\n",
    "dt = 1/12 # ft\n",
    "L = 20 # ft\n",
    "e_b = 0.5\n",
    "NT = 2500 # tubes\n",
    "W = 100000 # lbmol/hr\n",
    "Fc_Cpc = 10**6 # BTU/hr/C\n",
    "rho_B = 100 # lb/ft^3\n",
    "mu = 0.048/60/60 # lb/ft/hr\n",
    "Cp = 0.5 # BTU/lbmol/C\n",
    "U = 120.5 # BTU/hr/ft^2/C\n",
    "k1 = 1.771*10**(-3)\n",
    "k2 = 23295.0\n",
    "k3 = 0.5\n",
    "k4 = 1.0\n",
    "k5 = 0.8184\n",
    "k6 = 0.5\n",
    "k7 = 0.2314\n",
    "k8 = 1\n",
    "k9 = 1.25\n",
    "k10 = 2\n",
    "k11 = 2.795*10**(-4)\n",
    "k12 = 33000\n",
    "k13 = 0.5\n",
    "k14 = 2\n",
    "R = 10.73/(5/9) # BTU/lbmol/C\n",
    "\n",
    "# elements list\n",
    "elements = ['DT', 'VA', 'O2', 'CO2', 'H2O', 'N2']\n",
    "MW = [46, 44, 32, 44, 18, 28]\n",
    "\n",
    "# initial conditions\n",
    "P_T0 = 114.7 # psia\n",
    "T_R0 = 353 # K\n",
    "Xi_0 = [.1, 0, 0.07, 0, 0.02]\n",
    "MW_0 = Xi_0[0]*MW[0] + Xi_0[2]*MW[2] + Xi_0[4]*MW[4] + (1-sum(Xi_0))*MW[-1]# lbmol/lbcat\n",
    "\n",
    "# calculated constants\n",
    "Ac = np.pi*(dt/2)**2 # ft^2\n",
    "\n",
    "# define T horizon\n",
    "dz = np.linspace(.2, L, 100)"
   ]
  },
  {
   "cell_type": "code",
   "execution_count": 3,
   "metadata": {},
   "outputs": [],
   "source": [
    "# ode fxn\n",
    "def odes(y, z, code):\n",
    "    # retrieve updated variables\n",
    "    X1 = y[0]\n",
    "    X2 = y[1]\n",
    "    X3 = y[2]\n",
    "    X4 = y[3]\n",
    "    X5 = y[4]\n",
    "    T_R = y[5]\n",
    "    T_C = y[6]\n",
    "    MW_bar = y[7]\n",
    "    P_T = y[8]\n",
    "\n",
    "    # Partial Pressures --> ok\n",
    "    P_O2 = P_T*X3 # lbmol/lbcat\n",
    "    P_DT = P_T*X1 # lbmol/lbcat\n",
    "    P_VA = P_T*X2 # lbmol/lbcat\n",
    "\n",
    "    # rate equations --> ok\n",
    "    RT = (1/T_R - 1/373)/1.987\n",
    "    r1 = k1*np.exp(-k2*RT)*P_O2**k3*P_DT**k4/(1+k5*P_O2**k6+k7*P_DT**k8+k9*P_VA**k10) # lbmol/lbcat/hr\n",
    "    r2 = k11*np.exp(-k12*RT)*P_O2**k13*P_VA**k14/(1+k5*P_O2**k6+k7*P_DT**k8+k9*P_VA**k10) # lbmol/lbcat/hr\n",
    "\n",
    "    R_i = {'DT': -r1, 'VA': r1-r2, 'O2': -r1/2 - 5*r2/2, 'CO2': 2*r2, 'H2O': r1 + 2*r2, 'N2': 0} # ok\n",
    "\n",
    "    # given eqs --> ok\n",
    "    u = 359*14.7*W*T_R/(273*3600*NT*Ac*MW_bar*P_T)\n",
    "    a = 1 + 2*dp/(3*(1-e_b)*dt)\n",
    "\n",
    "    # differential equations --> ok\n",
    "    dMWdz = MW_bar**2*NT*Ac*rho_B*((-28+MW[0])*R_i['DT'] + (-28+MW[1])*R_i['VA'] + (-28+MW[2])*R_i['O2'] + (-28+MW[3])*R_i['CO2']+ (-28+MW[4])*R_i['H2O'])/(W*(MW_bar+28*(X1+X2+X3+X4+X5)-MW[0]*X1-MW[1]*X2-MW[2]*X3-MW[3]*X4-MW[4]*X5))\n",
    "    dX1dz = NT*R_i['DT']*Ac*rho_B*MW_bar/W + X1/MW_bar*dMWdz\n",
    "    dX2dz = NT*R_i['VA']*Ac*rho_B*MW_bar/W + X2/MW_bar*dMWdz\n",
    "    dX3dz = NT*R_i['O2']*Ac*rho_B*MW_bar/W + X3/MW_bar*dMWdz\n",
    "    dX4dz = NT*R_i['CO2']*Ac*rho_B*MW_bar/W + X4/MW_bar*dMWdz\n",
    "    dX5dz = NT*R_i['H2O']*Ac*rho_B*MW_bar/W + X5/MW_bar*dMWdz\n",
    "    # dX6dz = NT*R_i['N2']*Ac*rho_B*MW/W + X6/MW*dMWdz\n",
    "\n",
    "    dT_Rdz = -NT*Ac*rho_B*(r1*dH_1 + r2*dH_2)/(Cp*W) - np.pi*NT*dt*U*(T_R-T_C)/(Cp*W)\n",
    "\n",
    "    if code == 'cocurrent':\n",
    "        dT_Cdz = np.pi*NT*dt*U*(T_R-T_C)/(Fc_Cpc)\n",
    "    elif code == 'countercurrent':\n",
    "        dT_Cdz = - np.pi*NT*dt*U*(T_R-T_C)/(Fc_Cpc)\n",
    "\n",
    "    # ok\n",
    "    dP_Tdz = (-a**2/(32.2*144))*(150*u*mu*(1-e_b)**2/(dp**2*e_b**3) + 1.75*u**2*MW_bar*(1-e_b)*P_T/(a*R*T_R*dp*e_b**3))\n",
    "    \n",
    "    return [dX1dz, dX2dz, dX3dz, dX4dz, dX5dz, dT_Rdz, dT_Cdz, dMWdz, dP_Tdz]"
   ]
  },
  {
   "cell_type": "code",
   "execution_count": 4,
   "metadata": {},
   "outputs": [
    {
     "name": "stderr",
     "output_type": "stream",
     "text": [
      "/tmp/ipykernel_45522/4175916537.py:21: RuntimeWarning: invalid value encountered in scalar power\n",
      "  r1 = k1*np.exp(-k2*RT)*P_O2**k3*P_DT**k4/(1+k5*P_O2**k6+k7*P_DT**k8+k9*P_VA**k10) # lbmol/lbcat/hr\n",
      "/tmp/ipykernel_45522/4175916537.py:22: RuntimeWarning: invalid value encountered in scalar power\n",
      "  r2 = k11*np.exp(-k12*RT)*P_O2**k13*P_VA**k14/(1+k5*P_O2**k6+k7*P_DT**k8+k9*P_VA**k10) # lbmol/lbcat/hr\n",
      "/home/zahra/miniconda3/envs/HW/lib/python3.11/site-packages/scipy/integrate/_odepack_py.py:248: ODEintWarning: Excess accuracy requested (tolerances too small). Run with full_output = 1 to get quantitative information.\n",
      "  warnings.warn(warning_msg, ODEintWarning)\n"
     ]
    },
    {
     "name": "stdout",
     "output_type": "stream",
     "text": [
      " lsoda--  at t (=r1), too much accuracy requested  \u0000\u0000\n",
      "       for precision of machine..  see tolsf (=r2) \u0000\u0000\n",
      "      in above,  r1 =  0.1727917788880D+02   r2 =                  NaN\n",
      " lsoda--  at t (=r1), too much accuracy requested  \u0000\u0000\n",
      "       for precision of machine..  see tolsf (=r2) \u0000\u0000\n",
      "      in above,  r1 =  0.1011376319048D+02   r2 =                  NaN\n"
     ]
    },
    {
     "data": {
      "image/png": "[encoded data removed]",
      "text/plain": [
       "<Figure size 640x480 with 1 Axes>"
      ]
     },
     "metadata": {},
     "output_type": "display_data"
    }
   ],
   "source": [
    "# define T horizon\n",
    "dz = np.linspace(0, L, 100)\n",
    "\n",
    "# loop through Tc0 values\n",
    "Tc0_co = [350, 352, 354, 356, 358, 360, 362, 363]\n",
    "solns = []\n",
    "for Tc0 in Tc0_co:\n",
    "    ic = np.array(Xi_0 + [T_R0, Tc0, MW_0, P_T0])\n",
    "    y_co = odeint(odes, ic, dz, args=('cocurrent',))\n",
    "    solns.append(y_co)\n",
    "    plt.scatter(dz, y_co[:, 5], label = 'Tc0 = ' + str(Tc0))\n",
    "\n",
    "plt.legend()\n",
    "plt.xlabel('z (ft)')\n",
    "plt.ylabel('T (K)')\n",
    "plt.show()"
   ]
  },
  {
   "cell_type": "code",
   "execution_count": null,
   "metadata": {},
   "outputs": [],
   "source": [
    "# Plot yeild VA v z\n",
    "\n",
    "# loop through Tc0 values\n",
    "Tc0_co = [350, 352, 354, 356, 358, 360, 362, 363]\n",
    "solns = []\n",
    "for Tc0 in Tc0_co:\n",
    "    ic = np.array(Xi_0 + [T_R0, Tc0, MW_0, P_T0])\n",
    "    y_co = odeint(odes, ic, dz, args=('cocurrent',))\n",
    "    solns.append(y_co)\n",
    "    plt.plot(dz, y_co[:, 2], label = 'Tc0 = ' + str(Tc0))\n",
    "\n",
    "plt.xlabel('Reactor Length (ft)')\n",
    "plt.ylabel('VA Yeild')\n",
    "plt.legend()\n",
    "plt.show()"
   ]
  },
  {
   "cell_type": "code",
   "execution_count": null,
   "metadata": {},
   "outputs": [],
   "source": [
    "# Plot Tc vs. z\n",
    "\n",
    "# loop through Tc0 values\n",
    "Tc0_co = [350, 352, 354, 356, 358, 360, 362, 363]\n",
    "solns = []\n",
    "for Tc0 in Tc0_co:\n",
    "    ic = np.array(Xi_0 + [T_R0, Tc0, MW_0, P_T0])\n",
    "    y_co = odeint(odes, ic, dz, args=('cocurrent',))\n",
    "    solns.append(y_co)\n",
    "    plt.scatter(dz, y_co[:, 6], label = 'Tc0 = ' + str(Tc0))\n",
    "\n",
    "plt.legend()\n",
    "plt.xlabel('z (ft)')\n",
    "plt.ylabel('T (K)')\n",
    "plt.show()"
   ]
  },
  {
   "cell_type": "code",
   "execution_count": null,
   "metadata": {},
   "outputs": [],
   "source": [
    "# # plot - Tr v z, for multiple Tc0 (350-364 for both)\n",
    "# Tr_co = y_co[:, 5]\n",
    "# Tc_co = y_co[:, 6]\n",
    "\n",
    "# plt.plot(dz, Tr_co)\n",
    "\n",
    "\n",
    "# # yeild, VA v z\n",
    "\n",
    "# # Tc v z, for multiple Tc0\n",
    "\n",
    "# # Tr_max v for multiple Tc_0 \n",
    "\n",
    "# # sensitvity use np.gradient (slope of Tr_max v Tc)\n",
    "\n",
    "\n",
    "# plt.plot(Tr_co, Tr_co)\n",
    "# plt.savefig('Tr_co.png')"
   ]
  }
 ],
 "metadata": {
  "kernelspec": {
   "display_name": "HW",
   "language": "python",
   "name": "python3"
  },
  "language_info": {
   "codemirror_mode": {
    "name": "ipython",
    "version": 3
   },
   "file_extension": ".py",
   "mimetype": "text/x-python",
   "name": "python",
   "nbconvert_exporter": "python",
   "pygments_lexer": "ipython3",
   "version": "3.11.5"
  }
 },
 "nbformat": 4,
 "nbformat_minor": 2
}
