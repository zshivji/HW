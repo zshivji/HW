{
 "cells": [
  {
   "cell_type": "markdown",
   "metadata": {},
   "source": [
    "## Homework 3.1: Sizing up our Library of Babel (20 pts)\n",
    "\n",
    "<hr>"
   ]
  },
  {
   "cell_type": "markdown",
   "metadata": {
    "nbgrader": {
     "grade": false,
     "grade_id": "cell-18b24639ddf6ec4b",
     "locked": true,
     "schema_version": 1,
     "solution": false
    }
   },
   "source": [
    "## Part a\n",
    "\n",
    "Assuming 20 amino acids are possible at each position, how large is the sequence space for a protein with $n$ amino acids?\n",
    "\n",
    "<hr>"
   ]
  },
  {
   "cell_type": "markdown",
   "metadata": {},
   "source": [
    "$20^{n}$\n",
    "\n",
    "<br />"
   ]
  },
  {
   "cell_type": "markdown",
   "metadata": {
    "nbgrader": {
     "grade": false,
     "grade_id": "cell-acd1bf944b7fddf2",
     "locked": true,
     "schema_version": 1,
     "solution": false
    }
   },
   "source": [
    "## Part b\n",
    "\n",
    "How long would it take to screen all possible 100 amino acid proteins if you could screen one billion proteins a second? How does this compare to the age of the observable universe?\n",
    "\n",
    "<hr>"
   ]
  },
  {
   "cell_type": "markdown",
   "metadata": {},
   "source": [
    "Time to screen: $1.3\\times10^{121}$ seconds to screen ($4.1\\times10^{113}$ years)\n",
    "\n",
    "Age of universe (13.82 billion years): $4.4\\times10^{17}$ seconds\n",
    "\n",
    "It is impossible to screen all protein variants at this rate!\n",
    "\n",
    "<br />"
   ]
  },
  {
   "cell_type": "markdown",
   "metadata": {
    "nbgrader": {
     "grade": false,
     "grade_id": "cell-d60ebd6de6515ba3",
     "locked": true,
     "schema_version": 1,
     "solution": false
    }
   },
   "source": [
    "## Part c\n",
    "\n",
    "If you had one molecule of each of the possible 100 amino acid proteins, what would be the approximate mass, in grams, of the entire sequence space? How does this compare to the mass of the observable universe?\n",
    "\n",
    "<hr>"
   ]
  },
  {
   "cell_type": "markdown",
   "metadata": {},
   "source": [
    "molecular mass of avg AA: 100 daltons (https://bionumbers.hms.harvard.edu/bionumber.aspx?s=n&v=6&id=101830)\n",
    "\n",
    "avg mass of 1 protein: $100 AA \\times 100 daltons/AA $\n",
    "\n",
    "mass of sequence space = $ 100 AA \\times 100 daltons/AA \\times 20^{100} \\times 1.66 \\times 10^{-24} g/amu $ \n",
    "\n",
    "mass of sequence space = $ 2.1 \\times 10^{110}$ g\n",
    "\n",
    "mass of universe: $1.5 \\times 10^{56}$ g\n",
    "\n",
    "The mass of this sequence space is enormous compared to universe!\n",
    "\n",
    "<br />"
   ]
  },
  {
   "cell_type": "markdown",
   "metadata": {},
   "source": [
    "## Part d\n",
    "\n",
    "For a protein containing $n$ amino acids, how many variants are there containing $m$ amino acid mutations? Plot the expression you wrote down as a function of $m$ for $n = 100$. You should use a logarithmic scale for the number of variants.\n",
    "\n",
    "<hr>"
   ]
  },
  {
   "cell_type": "markdown",
   "metadata": {},
   "source": [
    "Total variants = C(n, m) * 19^m \n",
    "\n",
    "C(n, m) = n! / (m! * (n - m)!)"
   ]
  },
  {
   "cell_type": "code",
   "execution_count": 1,
   "metadata": {},
   "outputs": [
    {
     "data": {
      "text/plain": [
       "[]"
      ]
     },
     "execution_count": 1,
     "metadata": {},
     "output_type": "execute_result"
    },
    {
     "data": {
      "image/png": "[encoded data removed]",
      "text/plain": [
       "<Figure size 640x480 with 1 Axes>"
      ]
     },
     "metadata": {},
     "output_type": "display_data"
    }
   ],
   "source": [
    "import math\n",
    "import matplotlib.pyplot as plt\n",
    "import numpy as np\n",
    "\n",
    "n = 100\n",
    "v = []\n",
    "for i in range(n+1): # 0 to n mutatiions\n",
    "    v.append(19**i*math.comb(n, i))\n",
    "\n",
    "plt.scatter(np.arange(0, n+1, 1), v)\n",
    "plt.xlabel('mutations')\n",
    "plt.ylabel('variants')\n",
    "\n",
    "plt.semilogy()"
   ]
  },
  {
   "cell_type": "markdown",
   "metadata": {
    "nbgrader": {
     "grade": false,
     "grade_id": "cell-8825b23531e2982b",
     "locked": true,
     "schema_version": 1,
     "solution": false
    }
   },
   "source": [
    "## Part e\n",
    "\n",
    "For a 100 amino acid protein, what fraction of the sequence space is covered by the single and double mutants?\n",
    "\n",
    "<hr>"
   ]
  },
  {
   "cell_type": "markdown",
   "metadata": {},
   "source": [
    "total = $20^{100}$\n",
    "\n",
    "single = $19 \\times 100 = 1900$\n",
    "\n",
    "double = $C(100, 2) \\times 19^{2} = 1786950$\n",
    "\n",
    "fraction single = $1.5\\times10^{-127} = 0 $ %\n",
    "\n",
    "fraction double = $1.4 \\times 10^{-124} = 0 $ % \n",
    "\n",
    "\n",
    "<br />"
   ]
  },
  {
   "cell_type": "markdown",
   "metadata": {},
   "source": [
    "<br />"
   ]
  }
 ],
 "metadata": {
  "celltoolbar": "Create Assignment",
  "kernelspec": {
   "display_name": "Python 3 (ipykernel)",
   "language": "python",
   "name": "python3"
  },
  "language_info": {
   "codemirror_mode": {
    "name": "ipython",
    "version": 3
   },
   "file_extension": ".py",
   "mimetype": "text/x-python",
   "name": "python",
   "nbconvert_exporter": "python",
   "pygments_lexer": "ipython3",
   "version": "3.11.5"
  }
 },
 "nbformat": 4,
 "nbformat_minor": 4
}
